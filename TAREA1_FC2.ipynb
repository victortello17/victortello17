{
  "nbformat": 4,
  "nbformat_minor": 0,
  "metadata": {
    "colab": {
      "name": "TAREA FC2.ipynb",
      "provenance": [],
      "include_colab_link": true
    },
    "kernelspec": {
      "name": "python3",
      "display_name": "Python 3"
    },
    "language_info": {
      "name": "python"
    }
  },
  "cells": [
    {
      "cell_type": "markdown",
      "metadata": {
        "id": "view-in-github",
        "colab_type": "text"
      },
      "source": [
        "<a href=\"https://colab.research.google.com/github/victortello17/victortello17/blob/main/TAREA1_FC2.ipynb\" target=\"_parent\"><img src=\"https://colab.research.google.com/assets/colab-badge.svg\" alt=\"Open In Colab\"/></a>"
      ]
    },
    {
      "cell_type": "markdown",
      "source": [
        "VICTOR TELLO MARCA"
      ],
      "metadata": {
        "id": "FGaIo4-D9S16"
      }
    },
    {
      "cell_type": "markdown",
      "source": [
        "(2p)Desarrolle la expresion $\\sqrt{1+x}$ en serie de Taylor $T_4(x)$ mediante el polinomio de grado 4 y calcule $\\sqrt{1.0001}$ con el respectivo error de truncamiento."
      ],
      "metadata": {
        "id": "0ktvuSHbjHgT"
      }
    },
    {
      "cell_type": "code",
      "execution_count": null,
      "metadata": {
        "id": "jd0VwXNAg2kw",
        "colab": {
          "base_uri": "https://localhost:8080/",
          "height": 401
        },
        "outputId": "56fc827f-92c7-4396-a3bc-a639b21288ff"
      },
      "outputs": [
        {
          "output_type": "display_data",
          "data": {
            "text/plain": [
              "<Figure size 432x288 with 1 Axes>"
            ],
            "image/png": "[encoded data removed]"
          },
          "metadata": {
            "needs_background": "light"
          }
        },
        {
          "output_type": "stream",
          "name": "stdout",
          "text": [
            " Taylor:      -5*x**4/128 + x**3/16 - x**2/8 + x/2 + 1\n",
            " funcion:     sqrt(x + 1)\n",
            " xi:          0.0001\n",
            " estimado  :  1.00004999875006\n",
            " real:        1.00004999875006\n",
            " error de truncamiento:  2.7343750000000005e-22\n"
          ]
        }
      ],
      "source": [
        "from math import *\n",
        "import sympy as sp\n",
        "from sympy.plotting import plot\n",
        "\n",
        "def PolTaylor(a,n):\n",
        "  x=sp.symbols('x') #define la variable simbólica x\n",
        "  f=sp.sqrt(1+x)\n",
        "  F=f #copia de la funcion\n",
        "  T=f.subs(x,a)\n",
        "  for k in range(0,n+1):\n",
        "    dfk=sp.diff(f,x)\n",
        "    if k==0:\n",
        "      T=T\n",
        "    else:\n",
        "      T=T+dfk.subs(x,a)*((x-a)**k)/factorial(k)\n",
        "      f=dfk\n",
        "\n",
        "  g = plot(F, T, (x, a-3, a+3), title = 'Polinomio de Taylor', show=False)\n",
        "  g[0].line_color = 'r'\n",
        "  g[1].line_color = 'b'\n",
        "  g.show()  \n",
        "\n",
        "  F=sp.expand(T)\n",
        "  pxi=F.subs(x,xi)\n",
        "\n",
        "  f=sp.sqrt(1+x)\n",
        "  \n",
        "  fxi=f.subs(x,xi)\n",
        "  E_5 = 7*(xi)**5/256\n",
        "\n",
        "  print(' Taylor:     ', sp.expand(T))\n",
        "  print(' funcion:    ', f)\n",
        "  print(' xi:         ', xi)\n",
        "  print(' estimado  : ', pxi)\n",
        "  print(' real:       ', fxi)\n",
        "  print(' error de truncamiento: ', E_5)\n",
        "\n",
        "\n",
        "\n",
        "a=0\n",
        "n=4\n",
        "xi=0.0001\n",
        "PolTaylor (a,n)"
      ]
    },
    {
      "cell_type": "markdown",
      "source": [
        "(4p) Considerar el problema de aproximaci ́on de la funcion $cos(x)$ mediante el desarrollo en serie de Taylor.\n",
        "\n",
        "\n",
        "*   Escribir un programa que calcule la aproximacion de la funcion truncado luego de $n =1,2,3,5,7,9$ terminos $T_n(x)$ y el error de truncamiento calculado comparado con el valor exacto de $cos(x)$. Correr el programa con $x = π/12$\n",
        "\n",
        "\n"
      ],
      "metadata": {
        "id": "u4ozHhCYmhLM"
      }
    },
    {
      "cell_type": "code",
      "source": [
        "from math import *\n",
        "import sympy as sp\n",
        "from sympy.plotting import plot\n",
        "\n",
        "def PolTaylor(a,n):\n",
        "  x=sp.symbols('x') #define la variable simboliica x\n",
        "  f=sp.cos(x)\n",
        "  F=f #copia de la funcion\n",
        "  T=f.subs(x,a)\n",
        "  Tr=f.subs(x,pi/12)\n",
        "  print('El valor de cos(x) evaluado en pi/2: ',Tr)\n",
        "  print('n ', '  valor estimado ', '       error')\n",
        "  for k in range(1,n+1):\n",
        "    Termino_k = (-1)**(k-1)*x**(2*(k-1))/factorial(2*(k-1))\n",
        "    if k==1:\n",
        "      T=T\n",
        "    else:\n",
        "      T = T + Termino_k \n",
        "    Ti=T.subs(x,xi)\n",
        "    errT = abs(Ti - Tr)\n",
        "    \n",
        "    fmt = '{}| {} |{}'\n",
        "    data = [k, Ti, errT]\n",
        "\n",
        "    print(fmt.format(*data))\n",
        "  \n",
        "  \n",
        "\n",
        "a=0\n",
        "xi=pi/12\n",
        "n=9\n",
        "\n",
        "PolTaylor (a,n)\n"
      ],
      "metadata": {
        "id": "lONFEU16mhqT",
        "colab": {
          "base_uri": "https://localhost:8080/"
        },
        "outputId": "80d577de-682e-40be-fd10-2fd201b92fe0"
      },
      "execution_count": null,
      "outputs": [
        {
          "output_type": "stream",
          "name": "stdout",
          "text": [
            "El valor de cos(x) evaluado en pi/2:  0.965925826289068\n",
            "n    valor estimado         error\n",
            "1| 1 |0.0340741737109317\n",
            "2| 0.965730540273995 |0.000195286015073015\n",
            "3| 0.965926272918981 |4.46629912387309E-7\n",
            "4| 0.965925825742181 |5.46887202190760E-10\n",
            "5| 0.965925826289485 |4.16666701141821E-13\n",
            "6| 0.965925826289068 |1.11022302462516E-16\n",
            "7| 0.965925826289068 |1.11022302462516E-16\n",
            "8| 0.965925826289068 |1.11022302462516E-16\n",
            "9| 0.965925826289068 |1.11022302462516E-16\n"
          ]
        }
      ]
    },
    {
      "cell_type": "markdown",
      "source": [
        "*   Para el caso de $n = 5$ estimar el error de truncamiento mediante la formula para $E_{n+1}$ y comparar con los resultados del punto a)\n"
      ],
      "metadata": {
        "id": "AKzs7NmtnG_g"
      }
    },
    {
      "cell_type": "code",
      "source": [
        "import numpy as np\n",
        "def PolTaylor(a,n):\n",
        "  x=sp.symbols('x') #define la variable simboliica x\n",
        "  f=sp.cos(x)\n",
        "  F=f #copia de la funcion\n",
        "  T=f.subs(x,a)\n",
        "  for k in range(1,n+1):\n",
        "    Termino_k = (-1)**(k-1)*x**(2*(k-1))/factorial(2*(k-1))\n",
        "    if k==1:\n",
        "      T=T\n",
        "    else:\n",
        "      T = T + Termino_k\n",
        " \n",
        "  Tr=f.subs(x,pi/12)\n",
        "  Ti=T.subs(x,xi)\n",
        "  errT = abs(Ti - Tr)\n",
        "\n",
        "  F=sp.expand(T)\n",
        "  pxi=F.subs(x,xi)\n",
        "  \n",
        "\n",
        "  f=sp.cos(x)\n",
        "  \n",
        "  fxi=f.subs(x,xi)\n",
        "  E_6 = xi**10/3628800\n",
        "  Com = abs(E_6-errT)\n",
        "\n",
        "  print(' Taylor     :', sp.expand(T))\n",
        "  print(' funcion    :', f)\n",
        "  print(' xi         :', xi)\n",
        "  print(' estimado   :', pxi)\n",
        "  print(' real       :', fxi)\n",
        "  print(' error de truncamiento: ', E_6)\n",
        "  print(' error calculado en a: ', errT)\n",
        "  print(' comparando errores: ', Com)\n",
        "\n",
        "\n",
        "\n",
        "a=0\n",
        "n=5\n",
        "xi=np.pi/12\n",
        "PolTaylor (a,n)"
      ],
      "metadata": {
        "colab": {
          "base_uri": "https://localhost:8080/"
        },
        "id": "JmZ8a7iQnK6P",
        "outputId": "54feedf1-b4ce-4d7e-b206-798415a0b611"
      },
      "execution_count": null,
      "outputs": [
        {
          "output_type": "stream",
          "name": "stdout",
          "text": [
            " Taylor     : x**8/40320 - x**6/720 + x**4/24 - x**2/2 + 1\n",
            " funcion    : cos(x)\n",
            " xi         : 0.2617993877991494\n",
            " estimado   : 0.965925826289485\n",
            " real       : 0.965925826289068\n",
            " error de truncamiento:  4.1679570365191566e-13\n",
            " error calculado en a:  4.16666701141821e-13\n",
            " comparando errores:  1.29002510094411e-16\n"
          ]
        }
      ]
    },
    {
      "cell_type": "markdown",
      "source": [
        "*   Modificar el programa desarrollado en el punto a) que permita calcular las aproximaciones de la funcion en el intervalo de $[−π/2, π/2]$ para $n = 1,2,3,5,7,9$ y guardar los datos $x$, $T_n(x)$ en una matriz. Graficar las aproximaciones con diferentes $n$ en una sola grafica. ¿En que region es mejor la convergencia?"
      ],
      "metadata": {
        "id": "i1WRWGjxnLWX"
      }
    },
    {
      "cell_type": "code",
      "source": [
        "import math\n",
        "import numpy as np\n",
        "import matplotlib.pyplot as plt\n",
        "import sympy as sp\n",
        "import pandas as pd\n",
        "\n",
        "def func_cos(x, n):\n",
        "    C = 0\n",
        "    for i in range(n):\n",
        "        coef = (-1)**i\n",
        "        num = x**(2*i)\n",
        "        denom = math.factorial(2*i)\n",
        "        C += ( coef ) * ( (num)/(denom) )\n",
        "    return C\n",
        "    \n",
        "n=int(input('Introduzca el numero de terminos \"n\" : '))\n",
        "angles = np.arange(-np.pi/2, np.pi/2 ,0.01)\n",
        "y = np.cos(angles) \n",
        "T_cos=[] \n",
        "T_cos.append(y)\n",
        "\n",
        "df = pd.DataFrame()\n",
        "df[\"x\"]= angles\n",
        "df['f(x)']= T_cos[0]\n",
        "\n",
        "p_cos = np.cos(angles)\n",
        "\n",
        "fig, ax = plt.subplots()\n",
        "ax.plot(angles,p_cos)\n",
        "\n",
        "ax.set_ylim([-0.5,1.2])\n",
        "ax.set_xlim([-math.pi/2, math.pi/2])\n",
        "\n",
        "for k in range(1,n+1):\n",
        "  L= [func_cos(_x, k) for _x in angles]\n",
        "  T_cos.append(L)\n",
        "  df[f\"T{k}\"]=T_cos[k]\n",
        "  ax.plot(df[\"x\"],df[f\"T{k}\"])\n",
        "\n",
        "legend_lst = ['cos(x) function']\n",
        "for i in range(1,n+1):\n",
        "    legend_lst.append(f'Taylor Series - {i} terms')\n",
        "ax.legend(legend_lst, loc=3)\n",
        "\n",
        "plt.show()\n",
        "\n",
        "df"
      ],
      "metadata": {
        "colab": {
          "base_uri": "https://localhost:8080/",
          "height": 693
        },
        "id": "7qcjQMs8F2WL",
        "outputId": "080b3712-d424-4c99-e7e2-188b841bbc6e"
      },
      "execution_count": null,
      "outputs": [
        {
          "name": "stdout",
          "output_type": "stream",
          "text": [
            "Introduzca el numero de terminos \"n\" : 10\n"
          ]
        },
        {
          "output_type": "display_data",
          "data": {
            "text/plain": [
              "<Figure size 432x288 with 1 Axes>"
            ],
            "image/png": "[encoded data removed]"
          },
          "metadata": {
            "needs_background": "light"
          }
        },
        {
          "output_type": "execute_result",
          "data": {
            "text/plain": [
              "            x          f(x)   T1        T2        T3        T4        T5  \\\n",
              "0   -1.570796  6.123234e-17  1.0 -0.233701  0.019969 -0.000895  0.000025   \n",
              "1   -1.560796  9.999833e-03  1.0 -0.218043  0.029229  0.009150  0.010023   \n",
              "2   -1.550796  1.999867e-02  1.0 -0.202485  0.038510  0.019191  0.020020   \n",
              "3   -1.540796  2.999550e-02  1.0 -0.187027  0.047812  0.029228  0.030016   \n",
              "4   -1.530796  3.998933e-02  1.0 -0.171669  0.057133  0.039261  0.040008   \n",
              "..        ...           ...  ...       ...       ...       ...       ...   \n",
              "310  1.529204  4.158066e-02  1.0 -0.169232  0.058619  0.040858  0.041600   \n",
              "311  1.539204  3.158740e-02  1.0 -0.184574  0.049295  0.030826  0.031608   \n",
              "312  1.549204  2.159098e-02  1.0 -0.200016  0.039990  0.020790  0.021613   \n",
              "313  1.559204  1.159239e-02  1.0 -0.215558  0.030706  0.010749  0.011615   \n",
              "314  1.569204  1.592653e-03  1.0 -0.231200  0.021442  0.000705  0.001617   \n",
              "\n",
              "               T6            T7            T8            T9           T10  \n",
              "0   -4.647660e-07  6.321470e-09 -6.513357e-11  5.260631e-13 -3.376922e-15  \n",
              "1    9.999403e-03  9.999839e-03  9.999833e-03  9.999833e-03  9.999833e-03  \n",
              "2    1.999827e-02  1.999867e-02  1.999867e-02  1.999867e-02  1.999867e-02  \n",
              "3    2.999513e-02  2.999551e-02  2.999550e-02  2.999550e-02  2.999550e-02  \n",
              "4    3.998899e-02  3.998934e-02  3.998933e-02  3.998933e-02  3.998933e-02  \n",
              "..            ...           ...           ...           ...           ...  \n",
              "310  4.158033e-02  4.158067e-02  4.158066e-02  4.158066e-02  4.158066e-02  \n",
              "311  3.158703e-02  3.158740e-02  3.158740e-02  3.158740e-02  3.158740e-02  \n",
              "312  2.159058e-02  2.159098e-02  2.159098e-02  2.159098e-02  2.159098e-02  \n",
              "313  1.159197e-02  1.159240e-02  1.159239e-02  1.159239e-02  1.159239e-02  \n",
              "314  1.592194e-03  1.592659e-03  1.592653e-03  1.592653e-03  1.592653e-03  \n",
              "\n",
              "[315 rows x 12 columns]"
            ],
            "text/html": [
              "\n",
              "  <div id=\"df-5d27829d-5875-4664-a0be-a4f0734948cf\">\n",
              "    <div class=\"colab-df-container\">\n",
              "      <div>\n",
              "<style scoped>\n",
              "    .dataframe tbody tr th:only-of-type {\n",
              "        vertical-align: middle;\n",
              "    }\n",
              "\n",
              "    .dataframe tbody tr th {\n",
              "        vertical-align: top;\n",
              "    }\n",
              "\n",
              "    .dataframe thead th {\n",
              "        text-align: right;\n",
              "    }\n",
              "</style>\n",
              "<table border=\"1\" class=\"dataframe\">\n",
              "  <thead>\n",
              "    <tr style=\"text-align: right;\">\n",
              "      <th></th>\n",
              "      <th>x</th>\n",
              "      <th>f(x)</th>\n",
              "      <th>T1</th>\n",
              "      <th>T2</th>\n",
              "      <th>T3</th>\n",
              "      <th>T4</th>\n",
              "      <th>T5</th>\n",
              "      <th>T6</th>\n",
              "      <th>T7</th>\n",
              "      <th>T8</th>\n",
              "      <th>T9</th>\n",
              "      <th>T10</th>\n",
              "    </tr>\n",
              "  </thead>\n",
              "  <tbody>\n",
              "    <tr>\n",
              "      <th>0</th>\n",
              "      <td>-1.570796</td>\n",
              "      <td>6.123234e-17</td>\n",
              "      <td>1.0</td>\n",
              "      <td>-0.233701</td>\n",
              "      <td>0.019969</td>\n",
              "      <td>-0.000895</td>\n",
              "      <td>0.000025</td>\n",
              "      <td>-4.647660e-07</td>\n",
              "      <td>6.321470e-09</td>\n",
              "      <td>-6.513357e-11</td>\n",
              "      <td>5.260631e-13</td>\n",
              "      <td>-3.376922e-15</td>\n",
              "    </tr>\n",
              "    <tr>\n",
              "      <th>1</th>\n",
              "      <td>-1.560796</td>\n",
              "      <td>9.999833e-03</td>\n",
              "      <td>1.0</td>\n",
              "      <td>-0.218043</td>\n",
              "      <td>0.029229</td>\n",
              "      <td>0.009150</td>\n",
              "      <td>0.010023</td>\n",
              "      <td>9.999403e-03</td>\n",
              "      <td>9.999839e-03</td>\n",
              "      <td>9.999833e-03</td>\n",
              "      <td>9.999833e-03</td>\n",
              "      <td>9.999833e-03</td>\n",
              "    </tr>\n",
              "    <tr>\n",
              "      <th>2</th>\n",
              "      <td>-1.550796</td>\n",
              "      <td>1.999867e-02</td>\n",
              "      <td>1.0</td>\n",
              "      <td>-0.202485</td>\n",
              "      <td>0.038510</td>\n",
              "      <td>0.019191</td>\n",
              "      <td>0.020020</td>\n",
              "      <td>1.999827e-02</td>\n",
              "      <td>1.999867e-02</td>\n",
              "      <td>1.999867e-02</td>\n",
              "      <td>1.999867e-02</td>\n",
              "      <td>1.999867e-02</td>\n",
              "    </tr>\n",
              "    <tr>\n",
              "      <th>3</th>\n",
              "      <td>-1.540796</td>\n",
              "      <td>2.999550e-02</td>\n",
              "      <td>1.0</td>\n",
              "      <td>-0.187027</td>\n",
              "      <td>0.047812</td>\n",
              "      <td>0.029228</td>\n",
              "      <td>0.030016</td>\n",
              "      <td>2.999513e-02</td>\n",
              "      <td>2.999551e-02</td>\n",
              "      <td>2.999550e-02</td>\n",
              "      <td>2.999550e-02</td>\n",
              "      <td>2.999550e-02</td>\n",
              "    </tr>\n",
              "    <tr>\n",
              "      <th>4</th>\n",
              "      <td>-1.530796</td>\n",
              "      <td>3.998933e-02</td>\n",
              "      <td>1.0</td>\n",
              "      <td>-0.171669</td>\n",
              "      <td>0.057133</td>\n",
              "      <td>0.039261</td>\n",
              "      <td>0.040008</td>\n",
              "      <td>3.998899e-02</td>\n",
              "      <td>3.998934e-02</td>\n",
              "      <td>3.998933e-02</td>\n",
              "      <td>3.998933e-02</td>\n",
              "      <td>3.998933e-02</td>\n",
              "    </tr>\n",
              "    <tr>\n",
              "      <th>...</th>\n",
              "      <td>...</td>\n",
              "      <td>...</td>\n",
              "      <td>...</td>\n",
              "      <td>...</td>\n",
              "      <td>...</td>\n",
              "      <td>...</td>\n",
              "      <td>...</td>\n",
              "      <td>...</td>\n",
              "      <td>...</td>\n",
              "      <td>...</td>\n",
              "      <td>...</td>\n",
              "      <td>...</td>\n",
              "    </tr>\n",
              "    <tr>\n",
              "      <th>310</th>\n",
              "      <td>1.529204</td>\n",
              "      <td>4.158066e-02</td>\n",
              "      <td>1.0</td>\n",
              "      <td>-0.169232</td>\n",
              "      <td>0.058619</td>\n",
              "      <td>0.040858</td>\n",
              "      <td>0.041600</td>\n",
              "      <td>4.158033e-02</td>\n",
              "      <td>4.158067e-02</td>\n",
              "      <td>4.158066e-02</td>\n",
              "      <td>4.158066e-02</td>\n",
              "      <td>4.158066e-02</td>\n",
              "    </tr>\n",
              "    <tr>\n",
              "      <th>311</th>\n",
              "      <td>1.539204</td>\n",
              "      <td>3.158740e-02</td>\n",
              "      <td>1.0</td>\n",
              "      <td>-0.184574</td>\n",
              "      <td>0.049295</td>\n",
              "      <td>0.030826</td>\n",
              "      <td>0.031608</td>\n",
              "      <td>3.158703e-02</td>\n",
              "      <td>3.158740e-02</td>\n",
              "      <td>3.158740e-02</td>\n",
              "      <td>3.158740e-02</td>\n",
              "      <td>3.158740e-02</td>\n",
              "    </tr>\n",
              "    <tr>\n",
              "      <th>312</th>\n",
              "      <td>1.549204</td>\n",
              "      <td>2.159098e-02</td>\n",
              "      <td>1.0</td>\n",
              "      <td>-0.200016</td>\n",
              "      <td>0.039990</td>\n",
              "      <td>0.020790</td>\n",
              "      <td>0.021613</td>\n",
              "      <td>2.159058e-02</td>\n",
              "      <td>2.159098e-02</td>\n",
              "      <td>2.159098e-02</td>\n",
              "      <td>2.159098e-02</td>\n",
              "      <td>2.159098e-02</td>\n",
              "    </tr>\n",
              "    <tr>\n",
              "      <th>313</th>\n",
              "      <td>1.559204</td>\n",
              "      <td>1.159239e-02</td>\n",
              "      <td>1.0</td>\n",
              "      <td>-0.215558</td>\n",
              "      <td>0.030706</td>\n",
              "      <td>0.010749</td>\n",
              "      <td>0.011615</td>\n",
              "      <td>1.159197e-02</td>\n",
              "      <td>1.159240e-02</td>\n",
              "      <td>1.159239e-02</td>\n",
              "      <td>1.159239e-02</td>\n",
              "      <td>1.159239e-02</td>\n",
              "    </tr>\n",
              "    <tr>\n",
              "      <th>314</th>\n",
              "      <td>1.569204</td>\n",
              "      <td>1.592653e-03</td>\n",
              "      <td>1.0</td>\n",
              "      <td>-0.231200</td>\n",
              "      <td>0.021442</td>\n",
              "      <td>0.000705</td>\n",
              "      <td>0.001617</td>\n",
              "      <td>1.592194e-03</td>\n",
              "      <td>1.592659e-03</td>\n",
              "      <td>1.592653e-03</td>\n",
              "      <td>1.592653e-03</td>\n",
              "      <td>1.592653e-03</td>\n",
              "    </tr>\n",
              "  </tbody>\n",
              "</table>\n",
              "<p>315 rows × 12 columns</p>\n",
              "</div>\n",
              "      <button class=\"colab-df-convert\" onclick=\"convertToInteractive('df-5d27829d-5875-4664-a0be-a4f0734948cf')\"\n",
              "              title=\"Convert this dataframe to an interactive table.\"\n",
              "              style=\"display:none;\">\n",
              "        \n",
              "  <svg xmlns=\"http://www.w3.org/2000/svg\" height=\"24px\"viewBox=\"0 0 24 24\"\n",
              "       width=\"24px\">\n",
              "    <path d=\"M0 0h24v24H0V0z\" fill=\"none\"/>\n",
              "    <path d=\"M18.56 5.44l.94 2.06.94-2.06 2.06-.94-2.06-.94-.94-2.06-.94 2.06-2.06.94zm-11 1L8.5 8.5l.94-2.06 2.06-.94-2.06-.94L8.5 2.5l-.94 2.06-2.06.94zm10 10l.94 2.06.94-2.06 2.06-.94-2.06-.94-.94-2.06-.94 2.06-2.06.94z\"/><path d=\"M17.41 7.96l-1.37-1.37c-.4-.4-.92-.59-1.43-.59-.52 0-1.04.2-1.43.59L10.3 9.45l-7.72 7.72c-.78.78-.78 2.05 0 2.83L4 21.41c.39.39.9.59 1.41.59.51 0 1.02-.2 1.41-.59l7.78-7.78 2.81-2.81c.8-.78.8-2.07 0-2.86zM5.41 20L4 18.59l7.72-7.72 1.47 1.35L5.41 20z\"/>\n",
              "  </svg>\n",
              "      </button>\n",
              "      \n",
              "  <style>\n",
              "    .colab-df-container {\n",
              "      display:flex;\n",
              "      flex-wrap:wrap;\n",
              "      gap: 12px;\n",
              "    }\n",
              "\n",
              "    .colab-df-convert {\n",
              "      background-color: #E8F0FE;\n",
              "      border: none;\n",
              "      border-radius: 50%;\n",
              "      cursor: pointer;\n",
              "      display: none;\n",
              "      fill: #1967D2;\n",
              "      height: 32px;\n",
              "      padding: 0 0 0 0;\n",
              "      width: 32px;\n",
              "    }\n",
              "\n",
              "    .colab-df-convert:hover {\n",
              "      background-color: #E2EBFA;\n",
              "      box-shadow: 0px 1px 2px rgba(60, 64, 67, 0.3), 0px 1px 3px 1px rgba(60, 64, 67, 0.15);\n",
              "      fill: #174EA6;\n",
              "    }\n",
              "\n",
              "    [theme=dark] .colab-df-convert {\n",
              "      background-color: #3B4455;\n",
              "      fill: #D2E3FC;\n",
              "    }\n",
              "\n",
              "    [theme=dark] .colab-df-convert:hover {\n",
              "      background-color: #434B5C;\n",
              "      box-shadow: 0px 1px 3px 1px rgba(0, 0, 0, 0.15);\n",
              "      filter: drop-shadow(0px 1px 2px rgba(0, 0, 0, 0.3));\n",
              "      fill: #FFFFFF;\n",
              "    }\n",
              "  </style>\n",
              "\n",
              "      <script>\n",
              "        const buttonEl =\n",
              "          document.querySelector('#df-5d27829d-5875-4664-a0be-a4f0734948cf button.colab-df-convert');\n",
              "        buttonEl.style.display =\n",
              "          google.colab.kernel.accessAllowed ? 'block' : 'none';\n",
              "\n",
              "        async function convertToInteractive(key) {\n",
              "          const element = document.querySelector('#df-5d27829d-5875-4664-a0be-a4f0734948cf');\n",
              "          const dataTable =\n",
              "            await google.colab.kernel.invokeFunction('convertToInteractive',\n",
              "                                                     [key], {});\n",
              "          if (!dataTable) return;\n",
              "\n",
              "          const docLinkHtml = 'Like what you see? Visit the ' +\n",
              "            '<a target=\"_blank\" href=https://colab.research.google.com/notebooks/data_table.ipynb>data table notebook</a>'\n",
              "            + ' to learn more about interactive tables.';\n",
              "          element.innerHTML = '';\n",
              "          dataTable['output_type'] = 'display_data';\n",
              "          await google.colab.output.renderOutput(dataTable, element);\n",
              "          const docLink = document.createElement('div');\n",
              "          docLink.innerHTML = docLinkHtml;\n",
              "          element.appendChild(docLink);\n",
              "        }\n",
              "      </script>\n",
              "    </div>\n",
              "  </div>\n",
              "  "
            ]
          },
          "metadata": {},
          "execution_count": 27
        }
      ]
    },
    {
      "cell_type": "markdown",
      "source": [
        "(2p)Si se aproxima la primera derivada de la funcion $f(x) = x^3 − 2x$ mediante el esquema de diferencia centrada en $x = 1$\n",
        "\\begin{equation}\n",
        " f'(x)=\\dfrac{f(x+h)-f(x-h)}{2h}\n",
        "\\end{equation}\n",
        "para valores de que orden de h se obtiene el minimo error de calculo?"
      ],
      "metadata": {
        "id": "Il9YjgRtF29S"
      }
    },
    {
      "cell_type": "code",
      "source": [
        "from math import *\n",
        "import sympy as sp\n",
        "import numpy as np\n",
        "\n",
        "x=sp.symbols('x') #define la variable simbolica x\n",
        "f= x**3-2*x\n",
        "F=f #copia de la funcion \n",
        "J=[]\n",
        "df=sp.diff(f,x)\n",
        "dfp=df.subs(x,1)\n",
        "print(\"El valor de f'(x=1) es: \",dfp)\n",
        "for h in np.arange(0.001,0.011,0.001):\n",
        "   D =(f.subs(x,(1+h))-f.subs(x,(1-h)))/(2*h)\n",
        "   print('Cuando h=',h,\", se aproxima f'(x) a: \", D)\n",
        "\n"
      ],
      "metadata": {
        "id": "ENtooZVfGsxD",
        "colab": {
          "base_uri": "https://localhost:8080/"
        },
        "outputId": "f88fcae0-d293-4850-8361-9e644236cd1d"
      },
      "execution_count": null,
      "outputs": [
        {
          "output_type": "stream",
          "name": "stdout",
          "text": [
            "El valor de f'(x=1) es:  1\n",
            "Cuando h= 0.001 , se aproxima f'(x) a:  1.00000099999997\n",
            "Cuando h= 0.002 , se aproxima f'(x) a:  1.00000400000000\n",
            "Cuando h= 0.003 , se aproxima f'(x) a:  1.00000899999997\n",
            "Cuando h= 0.004 , se aproxima f'(x) a:  1.00001599999999\n",
            "Cuando h= 0.005 , se aproxima f'(x) a:  1.00002499999998\n",
            "Cuando h= 0.006 , se aproxima f'(x) a:  1.00003600000000\n",
            "Cuando h= 0.007 , se aproxima f'(x) a:  1.00004899999999\n",
            "Cuando h= 0.008 , se aproxima f'(x) a:  1.00006399999999\n",
            "Cuando h= 0.009000000000000001 , se aproxima f'(x) a:  1.00008099999999\n",
            "Cuando h= 0.010000000000000002 , se aproxima f'(x) a:  1.00010000000000\n"
          ]
        }
      ]
    },
    {
      "cell_type": "markdown",
      "source": [
        "4. (3p) Escriba un programa que calcule las diferencias finitas hacia atras de cualquier orden $∇^r$ y para cualquier conjunto $x_k$, $f_k$ con k = 0,1,2,3 ,... m valores de datos en la tabla."
      ],
      "metadata": {
        "id": "dcTPXmiTjCEx"
      }
    },
    {
      "cell_type": "code",
      "source": [
        "# Generación de tablas de diferencias hacia atrás\n",
        "\n",
        "# Importing NumPy Library\n",
        "import numpy as np\n",
        "import sys\n",
        "\n",
        "# Número de lectura de incógnitas\n",
        "n = int(input('Ingrese el número de puntos de datos: '))\n",
        "\n",
        "# Hacer una matriz numpy de tamaño n & n x n e inicializar\n",
        "# a cero para almacenar el valor de x e y junto con las diferencias de y\n",
        "x = np.zeros((n))\n",
        "y = np.zeros((n,n))\n",
        "\n",
        "\n",
        "# Lectura de puntos de datos\n",
        "print('Ingrese datos de X y Y: ')\n",
        "for i in range(n):\n",
        "    x[i] = float(input( 'x['+str(i)+']='))\n",
        "    y[i][0] = float(input( 'y['+str(i)+']='))\n",
        "    \n",
        "# Generando tabla de diferencias hacia atrás\n",
        "for i in range(1,n):\n",
        "    for j in range(n-1,i-2,-1):\n",
        "        y[j][i] = y[j][i-1] - y[j-1][i-1]\n",
        "\n",
        "        \n",
        "print('\\nTABLA DE DIFERENCIAS HACIA ATRÁS\\n');\n",
        "\n",
        "for i in range(0,n):\n",
        "    print('%0.2f' %(x[i]), end='')\n",
        "    for j in range(0, i+1):\n",
        "        print('\\t%0.2f' %(y[i][j]), end='')\n",
        "    print()\n"
      ],
      "metadata": {
        "id": "27oJ4zrnjcKf",
        "colab": {
          "base_uri": "https://localhost:8080/"
        },
        "outputId": "e817bce0-9ba7-4184-d911-67de050d4ee2"
      },
      "execution_count": null,
      "outputs": [
        {
          "output_type": "stream",
          "name": "stdout",
          "text": [
            "Ingrese el número de puntos de datos: 9\n",
            "Ingrese datos de X y Y: \n",
            "x[0]=1\n",
            "y[0]=2\n",
            "x[1]=4\n",
            "y[1]=5\n",
            "x[2]=9\n",
            "y[2]=10\n",
            "x[3]=12\n",
            "y[3]=48\n",
            "x[4]=78\n",
            "y[4]=35\n",
            "x[5]=59\n",
            "y[5]=70\n",
            "x[6]=59\n",
            "y[6]=51\n",
            "x[7]=48\n",
            "y[7]=78\n",
            "x[8]=95\n",
            "y[8]=105\n",
            "\n",
            "TABLA DE DIFERENCIAS HACIA ATRÁS\n",
            "\n",
            "1.00\t2.00\n",
            "4.00\t5.00\t3.00\n",
            "9.00\t10.00\t5.00\t2.00\n",
            "12.00\t48.00\t38.00\t33.00\t31.00\n",
            "78.00\t35.00\t-13.00\t-51.00\t-84.00\t-115.00\n",
            "59.00\t70.00\t35.00\t48.00\t99.00\t183.00\t298.00\n",
            "59.00\t51.00\t-19.00\t-54.00\t-102.00\t-201.00\t-384.00\t-682.00\n",
            "48.00\t78.00\t27.00\t46.00\t100.00\t202.00\t403.00\t787.00\t1469.00\n",
            "95.00\t105.00\t27.00\t0.00\t-46.00\t-146.00\t-348.00\t-751.00\t-1538.00\t-3007.00\n"
          ]
        }
      ]
    },
    {
      "cell_type": "markdown",
      "source": [
        "4a - (2p) Aplicar el programa desarrollado para hallar todas las diferencias finitas usando los datos de la siguiente tabla:\n",
        "![1.PNG](data:image/png;base64,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)"
      ],
      "metadata": {
        "id": "q6pV84etjcjZ"
      }
    },
    {
      "cell_type": "code",
      "source": [
        "# Tabla de Diferencias finitas\n",
        "# resultado en: [título,tabla]\n",
        "# Tarea: verificar tamaño de vectores\n",
        "import numpy as np\n",
        "import pandas as pd\n",
        "import math as m\n",
        "\n",
        "# INGRESO, Datos de prueba\n",
        "xi = np.array([0., 0.375, 0.75, 1.125, 1.5, 1.975, 2.25, 2.625, 3.0])\n",
        "fi = np.array([0., 0.366, 0.681, 0.902, 0.997, 0.954, 0.778, 0.493, 0.141])\n",
        "\n",
        "# PROCEDIMIENTO\n",
        "\n",
        "# Tabla de Diferencias Finitas\n",
        "titulo = ['i','xi','fi']\n",
        "n  = len(xi)\n",
        "ki = np.arange(0,n,1)\n",
        "tabla = np.concatenate(([ki],[xi],[fi]),axis=0)\n",
        "tabla = np.transpose(tabla)\n",
        "\n",
        "# diferencias finitas vacia\n",
        "dfinita = np.zeros(shape=(n,n),dtype=float)\n",
        "tabla   = np.concatenate((tabla,dfinita), axis=1)\n",
        "\n",
        "# Calcula tabla, inicia en columna 3\n",
        "[n,m] = np.shape(tabla)\n",
        "diagonal = n-1\n",
        "j = 3\n",
        "while (j < m):\n",
        "    # Añade título para cada columna\n",
        "    titulo.append('df'+str(j-2))\n",
        "\n",
        "    # cada fila de columna\n",
        "    i = 0\n",
        "    while (i < diagonal):\n",
        "        tabla[i,j] = tabla[i+1,j-1]-tabla[i,j-1]\n",
        "        i = i + 1\n",
        "\n",
        "    diagonal = diagonal - 1\n",
        "    j = j + 1\n",
        "\n",
        "    # SALIDA\n",
        "print('Tabla Diferencia Finita: ')\n",
        "\n",
        "#print(tabla)\n",
        "J=pd.DataFrame(tabla,\n",
        "              columns = [titulo])\n",
        "\n",
        "#J=J.drop(['i'], axis=1)\n",
        "print(J)\n",
        "\n",
        "# Gráfica\n",
        "import matplotlib.pyplot as plt\n",
        "\n",
        "for i in range(0,n,1):\n",
        "    plt.axhline(fi[i],ls='--', color='yellow')\n",
        "\n",
        "plt.plot(xi,fi,'o', label = 'Puntos')\n",
        "\n",
        "plt.legend()\n",
        "plt.xlabel('xi')\n",
        "plt.ylabel('fi')\n",
        "plt.title('Diferencia Finita')\n",
        "plt.show()\n"
      ],
      "metadata": {
        "id": "8WrJEurejk7F",
        "colab": {
          "base_uri": "https://localhost:8080/",
          "height": 677
        },
        "outputId": "ec7350ba-7a76-49c0-c35e-8fc9d81667b6"
      },
      "execution_count": null,
      "outputs": [
        {
          "output_type": "stream",
          "name": "stdout",
          "text": [
            "Tabla Diferencia Finita: \n",
            "     i     xi     fi    df1    df2    df3    df4    df5    df6    df7    df8  \\\n",
            "0  0.0  0.000  0.000  0.366 -0.051 -0.043  0.011  0.009 -0.012  0.017 -0.025   \n",
            "1  1.0  0.375  0.366  0.315 -0.094 -0.032  0.020 -0.003  0.005 -0.008  0.000   \n",
            "2  2.0  0.750  0.681  0.221 -0.126 -0.012  0.017  0.002 -0.003  0.000  0.000   \n",
            "3  3.0  1.125  0.902  0.095 -0.138  0.005  0.019 -0.001  0.000  0.000  0.000   \n",
            "4  4.0  1.500  0.997 -0.043 -0.133  0.024  0.018  0.000  0.000  0.000  0.000   \n",
            "5  5.0  1.975  0.954 -0.176 -0.109  0.042  0.000  0.000  0.000  0.000  0.000   \n",
            "6  6.0  2.250  0.778 -0.285 -0.067  0.000  0.000  0.000  0.000  0.000  0.000   \n",
            "7  7.0  2.625  0.493 -0.352  0.000  0.000  0.000  0.000  0.000  0.000  0.000   \n",
            "8  8.0  3.000  0.141  0.000  0.000  0.000  0.000  0.000  0.000  0.000  0.000   \n",
            "\n",
            "   df9  \n",
            "0  0.0  \n",
            "1  0.0  \n",
            "2  0.0  \n",
            "3  0.0  \n",
            "4  0.0  \n",
            "5  0.0  \n",
            "6  0.0  \n",
            "7  0.0  \n",
            "8  0.0  \n"
          ]
        },
        {
          "output_type": "display_data",
          "data": {
            "text/plain": [
              "<Figure size 432x288 with 1 Axes>"
            ],
            "image/png": "[encoded data removed]"
          },
          "metadata": {
            "needs_background": "light"
          }
        }
      ]
    },
    {
      "cell_type": "markdown",
      "source": [
        "4b - (4p) Aplicado a los datos de la tabla, determinar numericamente la primera derivada $Df(x_6)/dx$ mediante la formula general usando el esquema de los operadores de diferencias finitas hacia atras con 5 terminos en la serie."
      ],
      "metadata": {
        "id": "xxUCE8dxjl6e"
      }
    },
    {
      "cell_type": "code",
      "source": [
        "import numpy as np\n",
        "import pandas as pd\n",
        "\n",
        "def dfatras(x,f,r,T):\n",
        "    \"\"\"\n",
        "    \n",
        "    Parameters\n",
        "    ----------\n",
        "    x : real\n",
        "        vector fila.\n",
        "    f : real\n",
        "        valores de la funcion.\n",
        "    r: orden máximo de las diferencias finitas\n",
        "    T : matriz real\n",
        "\n",
        "    Returns\n",
        "    -------\n",
        "    matriz T con los operadores \n",
        "\n",
        "    \"\"\"\n",
        "    T[:,0]=x \n",
        "    T[:,1]=f\n",
        "\n",
        "    for j in range(2,r+2):  # las columnas de 3 hasta  m\n",
        "        for i in range(j-1,m+1):\n",
        "            T[i,j] = T[i,j-1] - T[i-1,j-1]\n",
        "    return T\n",
        "\n",
        "\n",
        "\n",
        "x = np.array([0.,0.375,0.75,1.125,1.5,1.975,2.25,2.625,3.])\n",
        "f = np.array([0.,0.366,0.681,0.902,0.997,0.954,0.778,0.493,0.141])\n",
        "\n",
        "print(f\"Ha ingresado {len(x)} elementos\\n. Por lo que puede realizar diferencias finitas de orden: {len(x)-1} como máximo\")\n",
        "r=int(input(\"Ingrese el orden máximo de las diferencias finitas que desea calcular:\"))\n",
        "print(\"La matriz de diferencias finitas es la siguiente\")\n",
        "m = len(x)-1 # numero de datos en x\n",
        "T = np.zeros(shape=(m+1,r+2))\n",
        "dfatras(x,f,r,T)\n",
        "df=pd.DataFrame()\n",
        "df[\"x\"]=T[:,0]\n",
        "df[\"y\"]=T[:,1]\n",
        "for j in range(2,r+2):\n",
        "  df[f\"dif{j-1}\"]=T[:,j]\n",
        "\n",
        "df"
      ],
      "metadata": {
        "id": "TQsY9oisjqKV",
        "colab": {
          "base_uri": "https://localhost:8080/"
        },
        "outputId": "dacc5a49-279c-4757-90dd-eb30904847b5"
      },
      "execution_count": null,
      "outputs": [
        {
          "name": "stdout",
          "output_type": "stream",
          "text": [
            "Ha ingresado 9 elementos\n",
            ". Por lo que puede realizar diferencias finitas de orden: 8 como máximo\n",
            "Ingrese el orden máximo de las diferencias finitas que desea calcular:5\n"
          ]
        }
      ]
    }
  ]
}