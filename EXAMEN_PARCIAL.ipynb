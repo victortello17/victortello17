{
  "nbformat": 4,
  "nbformat_minor": 0,
  "metadata": {
    "colab": {
      "name": "EXAMEN PARCIAL.ipynb",
      "provenance": [],
      "authorship_tag": "ABX9TyPq7+WITmOHFrbRSlALYAOW",
      "include_colab_link": true
    },
    "kernelspec": {
      "name": "python3",
      "display_name": "Python 3"
    },
    "language_info": {
      "name": "python"
    }
  },
  "cells": [
    {
      "cell_type": "markdown",
      "metadata": {
        "id": "view-in-github",
        "colab_type": "text"
      },
      "source": [
        "<a href=\"https://colab.research.google.com/github/victortello17/victortello17/blob/main/EXAMEN_PARCIAL.ipynb\" target=\"_parent\"><img src=\"https://colab.research.google.com/assets/colab-badge.svg\" alt=\"Open In Colab\"/></a>"
      ]
    },
    {
      "cell_type": "markdown",
      "source": [
        "#VICTOR TELLO MARCA - EXAMEN PARCIAL"
      ],
      "metadata": {
        "id": "TYL_Cus_MKzF"
      }
    },
    {
      "cell_type": "markdown",
      "source": [
        "#PREGUNTA 1\n",
        "\n",
        "Considere el problema de lanzamiento en el aire de un balon de masa\n",
        "$400 gramos$. Asumir para el cuerpo considerado la fuerza de resistencia es\n",
        "linealmente proporcional a la velocidad $v$ y el coeficiente de proporcionalidad\n",
        "$k = 0.02 kg/s$. La persona que lanza el balon, desde una altura de $H =\n",
        "z_0=1.8 m$, tiene el objetivo de alcanzar la canastilla que se encuentra a\n",
        "una distancia $L = 8 m$ en el eje $x$ y altura de $2.5 m$. Asumiendo que el\n",
        " ́angulo inicial $θ_0$ de lanzamiento siempres es $45 grados$, realice el experimento numérico para determinar la velocidad inicial $v_0$ necesaria de tal manera que el balon caiga en la canastilla."
      ],
      "metadata": {
        "id": "0wNS9nY6MQyL"
      }
    },
    {
      "cell_type": "markdown",
      "source": [
        "a) (2p) Formule el modelo matemático del sistema para la solución numérica\n",
        "de las ecuaciones diferenciales que gobierna el movimiento. Defina el\n",
        "algoritmo de Euler para hallar las coordenadas y velocidades."
      ],
      "metadata": {
        "id": "M3GBkVmod3lW"
      }
    },
    {
      "cell_type": "code",
      "execution_count": 12,
      "metadata": {
        "id": "7rldtbogLxUH"
      },
      "outputs": [],
      "source": [
        "import numpy as np \n",
        "import matplotlib.pyplot as plt\n",
        "#vx = v*cos45 y vz= v*sin45\n",
        "\n",
        "#Modelo matemático\n",
        "az = lambda vz: g - (k/m)*vz \n",
        "ax = lambda vx: -(k/m)*abs(vx) \n",
        "#Condiciones\n",
        "#y >= 0"
      ]
    },
    {
      "cell_type": "markdown",
      "source": [
        "b) (4p)Escriba un código en Python o Fortran que implementa el el algo-\n",
        "ritmo de Euler simple para hallar las coordenadas x(ti), z(ti) y veloci-\n",
        "dades vx(ti), vz(ti) asi como la energ ́ıa mec ́anica total en cada instante de tiempo discreto. El programa debe imprimir en la pantalla una tabla\n",
        "de datos:\n",
        "\n",
        "$t_i$   $x_i$   $z_i$   $v_{xi}$   $v_{zi}$   $E_{tot}(t_i)$"
      ],
      "metadata": {
        "id": "EmnxKJlTeBao"
      }
    },
    {
      "cell_type": "code",
      "source": [
        "def Euler2d(t,x,z,vx,vz):\n",
        "  \"\"\"\n",
        "  Algoritmo de Euler de segundo orden\n",
        "  r: posición\n",
        "  v: velocidad\n",
        "  h: paso\n",
        "  \"\"\"\n",
        "################################################################################\n",
        "  # Definición de las listas con los valores de las variables\n",
        "  tiempo = [t]\n",
        "  posicionx = [x]\n",
        "  posicionz = [z]\n",
        "  velocidadx = [vx]\n",
        "  velocidadz = [vz]\n",
        "  aceleracionx = [ax(vx)]\n",
        "  aceleracionz = [az(vz)]\n",
        "\n",
        "################################################################################\n",
        "  h = float(input(\"Ingrese el paso: \"))\n",
        "  #print(\"tiempo  posiciónx  posiciónz  velocidadx  velocidadz  aceleraciónx  aceleraciónz\")\n",
        "  while z >= 0:\n",
        "    tiempo.append(t)\n",
        "    posicionx.append(x)\n",
        "    posicionz.append(z)\n",
        "    velocidadx.append(abs(vx))\n",
        "    velocidadz.append(vz)\n",
        "    aceleracionx.append(abs(ax(vx)))       \n",
        "    aceleracionz.append(az(vz))\n",
        "\n",
        "################################################################################\n",
        "    #print('{:1.2f}{:12.4f}{:12.4f}{:12.4f}{:12.4f}{:12.4f}{:12.4f}'.format(t,x,z,vx,vz,ax(vx),az(vz)))    \n",
        "    z = z + h*vz\n",
        "    vz = vz + h*az(vz)\n",
        "\n",
        "    x = x + h*vx\n",
        "    vx = vx + h*ax(vx)\n",
        "\n",
        "    t = t + h\n",
        "\n",
        "  return tiempo,posicionx,posicionz,velocidadx,velocidadz,aceleracionx,aceleracionz"
      ],
      "metadata": {
        "id": "8zhaeuJhBcjZ"
      },
      "execution_count": 13,
      "outputs": []
    },
    {
      "cell_type": "code",
      "source": [
        "#Valores del sistema físico\n",
        "m = 0.4  # masa en kg\n",
        "g = -9.87\n",
        "k = 0.02\n",
        "\n",
        "#Condiciones del problema\n",
        "t = 0\n",
        "\n",
        "#PVI z(0)=1.8, v(0) = 0\n",
        "z = 1.8\n",
        "vz = 6.71\n",
        "x = 0\n",
        "vx = 6.71"
      ],
      "metadata": {
        "id": "vcaG1130Gk-W"
      },
      "execution_count": 14,
      "outputs": []
    },
    {
      "cell_type": "code",
      "source": [
        "# solucion numerica con euler\n",
        "(ts,xs,zs,vxs,vzs,axs,azs) = Euler2d(t,x,z,vx,vz)\n",
        "#Energía\n",
        "EK = np.zeros(len(vxs))\n",
        "ET = np.zeros(len(vxs))\n",
        "print(\"Tiempo  Posiciónx  Posiciónz Velocidadx  Velocidadz  Energía T\")\n",
        "for i in range(1,len(vxs)):\n",
        "  EK[i] = 0.5*m*(vxs[i])**2 + 0.5*m*(vzs[i])**2\n",
        "  ET[i] = EK[i] + m*abs(g) * zs[i]\n",
        "  print('{:0.2f}{:10.4f}{:10.4f}{:12.4f}{:12.4f}{:12.4f}'.format(ts[i],xs[i],zs[i],vxs[i],vzs[i],ET[i]))"
      ],
      "metadata": {
        "colab": {
          "base_uri": "https://localhost:8080/"
        },
        "id": "cDWZlH4bGom3",
        "outputId": "f08c1a5d-b214-4a25-851b-dbbd04975815"
      },
      "execution_count": 15,
      "outputs": [
        {
          "output_type": "stream",
          "name": "stdout",
          "text": [
            "Ingrese el paso: 0.1\n",
            "Tiempo  Posiciónx  Posiciónz Velocidadx  Velocidadz  Energía T\n",
            "0.00    0.0000    1.8000      6.7100      6.7100     25.1160\n",
            "0.10    0.6710    2.4710      6.6764      5.6894     25.1445\n",
            "0.20    1.3386    3.0399      6.6431      4.6740     25.1970\n",
            "0.30    2.0030    3.5073      6.6099      3.6636     25.2695\n",
            "0.40    2.6639    3.8737      6.5768      2.6583     25.3576\n",
            "0.50    3.3216    4.1395      6.5439      1.6580     25.4573\n",
            "0.60    3.9760    4.3053      6.5112      0.6627     25.5645\n",
            "0.70    4.6271    4.3716      6.4786     -0.3276     25.6752\n",
            "0.80    5.2750    4.3389      6.4463     -1.3129     25.7854\n",
            "0.90    5.9196    4.2076      6.4140     -2.2934     25.8913\n",
            "1.00    6.5610    3.9782      6.3819     -3.2689     25.9890\n",
            "1.10    7.1992    3.6513      6.3500     -4.2396     26.0749\n",
            "1.20    7.8342    3.2274      6.3183     -5.2054     26.1450\n",
            "1.30    8.4660    2.7068      6.2867     -6.1663     26.1959\n",
            "1.40    9.0947    2.0902      6.2553     -7.1225     26.2238\n",
            "1.50    9.7202    1.3780      6.2240     -8.0739     26.2253\n",
            "1.60   10.3426    0.5706      6.1929     -9.0205     26.1969\n"
          ]
        }
      ]
    },
    {
      "cell_type": "markdown",
      "source": [
        "c) (3p) Realice el experimento numérico con paso de tiempo $dt = 0.02$ y\n",
        "determine el valor de la velocidad inicial $v_0$. Con los datos obtenidos\n",
        "con la velocidad inicial establecida presente la grafica de la trayectoria\n",
        "del balon, colocando en el t ́ıtulo su apellido y el valor de $v_0$. Cuanto\n",
        "tiempo demora el balon en alcanzar el objetivo?. Teniendo en cuenta\n",
        "el error de cálculo indique la posición del balón cuando se encuentre en\n",
        "el punto mas alto, así como la energía total."
      ],
      "metadata": {
        "id": "S0SqRymOeq2U"
      }
    },
    {
      "cell_type": "code",
      "source": [
        "#solucion numerica con euler para h=0.02\n",
        "ts1,xs1,zs1,vxs1,vzs1,axs1,azs1 = Euler2d(t,x,z,vx,vz)\n",
        "#Respondiendo las preguntas y completando la tabla con la energia total\n",
        "print('la velocidad inicial es de:', np.sqrt(vx**2+vz**2), 'm/s')\n",
        "print('Segun el cuadro, el tiempo para llegar a la canasta es de:', 1.24, 's' )\n",
        "print('El punto mas alto es: ', 4.0953, 'm',' y la energia total:', 24.5990, 'J')\n",
        "print('=================')\n",
        "\n",
        "#Energía\n",
        "EK = np.zeros(len(vxs1))\n",
        "ET = np.zeros(len(vxs1))\n",
        "print(\"Tiempo  Posiciónx  Posiciónz Velocidadx  Velocidadz  Energía T\")\n",
        "for i in range(1,len(vxs1)):\n",
        "  EK[i] = 0.5*m*(vxs1[i])**2 + 0.5*m*(vzs1[i])**2\n",
        "  ET[i] = EK[i] + m*abs(g) * zs1[i]\n",
        "  print('{:0.4f}{:10.4f}{:10.4f}{:12.4f}{:12.4f}{:12.4f}'.format(ts1[i],xs1[i],zs1[i],vxs1[i],vzs1[i],ET[i]))"
      ],
      "metadata": {
        "id": "XwNW_d2ICtvg",
        "colab": {
          "base_uri": "https://localhost:8080/"
        },
        "outputId": "757cc805-bb92-4dcb-8a84-ca5c7d584ec6"
      },
      "execution_count": 16,
      "outputs": [
        {
          "output_type": "stream",
          "name": "stdout",
          "text": [
            "Ingrese el paso: 0.02\n",
            "la velocidad inicial es de: 9.489373003523468 m/s\n",
            "Segun el cuadro, el tiempo para llegar a la canasta es de: 1.24 s\n",
            "El punto mas alto es:  4.0953 m  y la energia total: 24.599 J\n",
            "=================\n",
            "Tiempo  Posiciónx  Posiciónz Velocidadx  Velocidadz  Energía T\n",
            "0.0000    0.0000    1.8000      6.7100      6.7100     25.1160\n",
            "0.0200    0.1342    1.9342      6.7033      6.5059     25.0884\n",
            "0.0400    0.2683    2.0643      6.6966      6.3020     25.0618\n",
            "0.0600    0.4022    2.1904      6.6899      6.0983     25.0363\n",
            "0.0800    0.5360    2.3123      6.6832      5.8948     25.0118\n",
            "0.1000    0.6697    2.4302      6.6765      5.6915     24.9883\n",
            "0.1200    0.8032    2.5440      6.6698      5.4884     24.9658\n",
            "0.1400    0.9366    2.6538      6.6632      5.2855     24.9442\n",
            "0.1600    1.0698    2.7595      6.6565      5.0828     24.9234\n",
            "0.1800    1.2030    2.8612      6.6499      4.8803     24.9036\n",
            "0.2000    1.3360    2.9588      6.6432      4.6781     24.8846\n",
            "0.2200    1.4688    3.0524      6.6366      4.4760     24.8663\n",
            "0.2400    1.6016    3.1419      6.6299      4.2741     24.8489\n",
            "0.2600    1.7342    3.2274      6.6233      4.0724     24.8321\n",
            "0.2800    1.8666    3.3088      6.6167      3.8710     24.8161\n",
            "0.3000    1.9990    3.3862      6.6101      3.6697     24.8007\n",
            "0.3200    2.1312    3.4596      6.6034      3.4686     24.7859\n",
            "0.3400    2.2632    3.5290      6.5968      3.2678     24.7717\n",
            "0.3600    2.3952    3.5943      6.5902      3.0671     24.7581\n",
            "0.3800    2.5270    3.6557      6.5837      2.8666     24.7450\n",
            "0.4000    2.6587    3.7130      6.5771      2.6663     24.7324\n",
            "0.4200    2.7902    3.7663      6.5705      2.4663     24.7203\n",
            "0.4400    2.9216    3.8157      6.5639      2.2664     24.7086\n",
            "0.4600    3.0529    3.8610      6.5574      2.0668     24.6973\n",
            "0.4800    3.1840    3.9023      6.5508      1.8673     24.6863\n",
            "0.5000    3.3150    3.9397      6.5442      1.6680     24.6757\n",
            "0.5200    3.4459    3.9730      6.5377      1.4689     24.6654\n",
            "0.5400    3.5767    4.0024      6.5312      1.2701     24.6554\n",
            "0.5600    3.7073    4.0278      6.5246      1.0714     24.6456\n",
            "0.5800    3.8378    4.0492      6.5181      0.8729     24.6360\n",
            "0.6000    3.9682    4.0667      6.5116      0.6747     24.6266\n",
            "0.6200    4.0984    4.0802      6.5051      0.4766     24.6173\n",
            "0.6400    4.2285    4.0897      6.4986      0.2787     24.6081\n",
            "0.6600    4.3585    4.0953      6.4921      0.0810     24.5990\n",
            "0.6800    4.4883    4.0969      6.4856     -0.1164     24.5899\n",
            "0.7000    4.6180    4.0946      6.4791     -0.3137     24.5809\n",
            "0.7200    4.7476    4.0883      6.4726     -0.5108     24.5718\n",
            "0.7400    4.8771    4.0781      6.4661     -0.7077     24.5627\n",
            "0.7600    5.0064    4.0640      6.4597     -0.9044     24.5536\n",
            "0.7800    5.1356    4.0459      6.4532     -1.1009     24.5443\n",
            "0.8000    5.2646    4.0238      6.4468     -1.2972     24.5348\n",
            "0.8200    5.3936    3.9979      6.4403     -1.4933     24.5253\n",
            "0.8400    5.5224    3.9680      6.4339     -1.6892     24.5155\n",
            "0.8600    5.6511    3.9343      6.4274     -1.8849     24.5054\n",
            "0.8800    5.7796    3.8966      6.4210     -2.0804     24.4951\n",
            "0.9000    5.9080    3.8549      6.4146     -2.2757     24.4845\n",
            "0.9200    6.0363    3.8094      6.4082     -2.4709     24.4736\n",
            "0.9400    6.1645    3.7600      6.4018     -2.6658     24.4624\n",
            "0.9600    6.2925    3.7067      6.3954     -2.8605     24.4507\n",
            "0.9800    6.4204    3.6495      6.3890     -3.0551     24.4387\n",
            "1.0000    6.5482    3.5884      6.3826     -3.2494     24.4262\n",
            "1.0200    6.6759    3.5234      6.3762     -3.4436     24.4132\n",
            "1.0400    6.8034    3.4545      6.3698     -3.6375     24.3997\n",
            "1.0600    6.9308    3.3818      6.3635     -3.8313     24.3857\n",
            "1.0800    7.0580    3.3051      6.3571     -4.0249     24.3712\n",
            "1.1000    7.1852    3.2247      6.3507     -4.2182     24.3560\n",
            "1.1200    7.3122    3.1403      6.3444     -4.4114     24.3402\n",
            "1.1400    7.4391    3.0521      6.3380     -4.6044     24.3238\n",
            "1.1600    7.5659    2.9600      6.3317     -4.7972     24.3067\n",
            "1.1800    7.6925    2.8640      6.3254     -4.9898     24.2889\n",
            "1.2000    7.8190    2.7642      6.3191     -5.1822     24.2703\n",
            "1.2200    7.9454    2.6606      6.3127     -5.3744     24.2510\n",
            "1.2400    8.0716    2.5531      6.3064     -5.5665     24.2309\n",
            "1.2600    8.1978    2.4418      6.3001     -5.7583     24.2100\n",
            "1.2800    8.3238    2.3266      6.2938     -5.9499     24.1882\n",
            "1.3000    8.4496    2.2076      6.2875     -6.1414     24.1655\n",
            "1.3200    8.5754    2.0848      6.2812     -6.3326     24.1419\n",
            "1.3400    8.7010    1.9581      6.2749     -6.5237     24.1174\n",
            "1.3600    8.8265    1.8276      6.2687     -6.7146     24.0919\n",
            "1.3800    8.9519    1.6934      6.2624     -6.9053     24.0655\n",
            "1.4000    9.0771    1.5553      6.2561     -7.0958     24.0380\n",
            "1.4200    9.2023    1.4133      6.2499     -7.2861     24.0094\n",
            "1.4400    9.3273    1.2676      6.2436     -7.4762     23.9798\n",
            "1.4600    9.4521    1.1181      6.2374     -7.6661     23.9491\n",
            "1.4800    9.5769    0.9648      6.2312     -7.8558     23.9172\n",
            "1.5000    9.7015    0.8077      6.2249     -8.0454     23.8842\n",
            "1.5200    9.8260    0.6467      6.2187     -8.2347     23.8500\n",
            "1.5400    9.9504    0.4821      6.2125     -8.4239     23.8146\n",
            "1.5600   10.0746    0.3136      6.2063     -8.6129     23.7779\n",
            "1.5800   10.1987    0.1413      6.2001     -8.8017     23.7399\n"
          ]
        }
      ]
    },
    {
      "cell_type": "code",
      "source": [
        "# GRÁFICAS\n",
        "plt.title(\"TELLO MARCA VICTOR v_0=9.5 m/s\")\n",
        "plt.ylabel('z')\n",
        "plt.xlabel('x')\n",
        "plt.plot(xs1,zs1,'b-',label ='velocidad',markersize=0.5)\n",
        "plt.legend()\n",
        "plt.grid()"
      ],
      "metadata": {
        "colab": {
          "base_uri": "https://localhost:8080/",
          "height": 295
        },
        "id": "1JyU1dXuGyPo",
        "outputId": "333ee8b6-8c68-4a62-d5b5-19d0e18e3b37"
      },
      "execution_count": 19,
      "outputs": [
        {
          "output_type": "display_data",
          "data": {
            "text/plain": [
              "<Figure size 432x288 with 1 Axes>"
            ],
            "image/png": "[encoded data removed]"
          },
          "metadata": {
            "needs_background": "light"
          }
        }
      ]
    },
    {
      "cell_type": "markdown",
      "source": [
        "d) (4p) Modifique el programa de tal manera que se pueda aplicar al caso\n",
        "cuando además aparece una fuerza horizontal constante $Fv$ $(viento)$ en\n",
        "favor y en contra del movimiento, igual en valor al $20\\%$ del peso del\n",
        "cuerpo. Repita los pasos del item c). En cuantas veces es mayor o\n",
        "menor el tiempo de vuelo $t_{favor}$/$t_{encontra}$ para los $2$ casos considerados? "
      ],
      "metadata": {
        "id": "oI-Y3aRTeqMA"
      }
    },
    {
      "cell_type": "code",
      "source": [
        "import numpy as np \n",
        "import matplotlib.pyplot as plt\n",
        "#Donde sabemos que: vx = v*cos45 y vz= v*sin45\n",
        "#Modelo matemático\n",
        "az1 = lambda vz: g - (k/m)*vz \n",
        "ax1 = lambda vx: 0.2 * abs(g) - (k/m)*abs(vx) \n",
        "#Condiciones\n",
        "#z >= 0\n",
        "\n",
        "def Euler2d1(t,x,z,vx,vz):\n",
        "\n",
        "\n",
        "################################################################################\n",
        "  # Definición de las listas con los valores de las variables\n",
        "  tiempo = [t]\n",
        "  posicionx = [x]\n",
        "  posicionz = [z]\n",
        "  velocidadx = [vx]\n",
        "  velocidadz = [vz]\n",
        "  aceleracionx = [ax1(vx)]\n",
        "  aceleracionz = [az1(vz)]\n",
        "\n",
        "################################################################################\n",
        "  h = float(input(\"Ingrese el paso: \"))\n",
        "  #print(\"tiempo  posiciónx  posiciónz  velocidadx  velocidadz  aceleraciónx  aceleraciónz\")\n",
        "  while z >= 0:\n",
        "    tiempo.append(t)\n",
        "    posicionx.append(x)\n",
        "    posicionz.append(z)\n",
        "    velocidadx.append(abs(vx))\n",
        "    velocidadz.append(vz)\n",
        "    aceleracionx.append(abs(ax1(vx)))       \n",
        "    aceleracionz.append(az1(vz))\n",
        "\n",
        "    #print('{:1.2f}{:12.4f}{:12.4f}{:12.4f}{:12.4f}{:12.4f}{:12.4f}'.format(t,x,z,vx,vz,ax1(vx),az1(vz)))    \n",
        "    z = z + h*vz\n",
        "    vz = vz + h*az(vz)\n",
        "\n",
        "    x = x + h*vx\n",
        "    vx = vx + h*ax1(vx)\n",
        "\n",
        "    t = t + h\n",
        "\n",
        "  return tiempo,posicionx,posicionz,velocidadx,velocidadz,aceleracionx,aceleracionz"
      ],
      "metadata": {
        "id": "bo0oVP4dCri1"
      },
      "execution_count": null,
      "outputs": []
    },
    {
      "cell_type": "code",
      "source": [
        "#Valores\n",
        "m = 0.4  # masa en kg\n",
        "g = -9.87\n",
        "k = 0.02\n",
        "\n",
        "#Condiciones\n",
        "t = 0\n",
        "\n",
        "#PVI z(0)=1.8, v(0) = 0\n",
        "z = 1.8\n",
        "vz = 6.25\n",
        "x = 0\n",
        "vx = 6.25"
      ],
      "metadata": {
        "id": "G__KVAxEHVom"
      },
      "execution_count": null,
      "outputs": []
    },
    {
      "cell_type": "code",
      "source": [
        "# solucion numerica con euler\n",
        "ts2,xs2,zs2,vxs2,vzs2,axs2,azs2 = Euler2d1(t,x,z,vx,vz)\n",
        "\n",
        "#Respondiendo las preguntas y completando la tabla con la energia total\n",
        "print('la velocidad inicial es de:', np.sqrt(vx**2+vz**2), 'm/s')\n",
        "print('Segun el cuadro, el tiempo de llegada a la canasta es de:', 1.14, 's' )\n",
        "print('Alcance máximo es: ', 3.7992 , 'm',' y la energia total:', 25.5551, 'J')\n",
        "print('=================')\n",
        "\n",
        "#Energía\n",
        "EK = np.zeros(len(vxs2))\n",
        "ET = np.zeros(len(vxs2))\n",
        "print(\"Tiempo  Posiciónx  Posiciónz Velocidadx  Velocidadz  Energía T\")\n",
        "for i in range(1,len(vxs2)):\n",
        "  EK[i] = 0.5*m*(vxs2[i])**2 + 0.5*m*(vzs2[i])**2\n",
        "  ET[i] = EK[i] + m*abs(g) * zs2[i]\n",
        "  print('{:0.4f}{:10.4f}{:10.4f}{:12.4f}{:12.4f}{:12.4f}'.format(ts2[i],xs2[i],zs2[i],vxs2[i],vzs2[i],ET[i]))"
      ],
      "metadata": {
        "id": "OJekN632HY9G"
      },
      "execution_count": null,
      "outputs": []
    },
    {
      "cell_type": "markdown",
      "source": [
        "e) (2p) Modifique el programa desarrolado en el item b) para reemplazar\n",
        "el algoritmo de $Euler-simple$ por el algoritmo de $Verlet$ en forma de\n",
        "velocidades."
      ],
      "metadata": {
        "id": "LJ5Z___BCwnZ"
      }
    },
    {
      "cell_type": "code",
      "source": [
        "\"\"\"\n",
        "Algoritmo de Verlet en forma de velocidades\n",
        "\"\"\"\n",
        "import numpy as np\n",
        "import matplotlib.pyplot as plt\n",
        "\n",
        "def verlet_sb(t,fx,fz,x,z,vx,vz,acel1,acel2):\n",
        "    \"\"\"\n",
        "    vt,vv,vz son vectores\n",
        "    \"\"\"\n",
        "    vt =[t]\n",
        "    vvz = [vz]\n",
        "    vvx = [vx]\n",
        "    vx = [x]\n",
        "    vz = [z]\n",
        "    ax = [acel1(vx,t)]\n",
        "    az = [acel2(vz,t)]\n",
        "\n",
        "    while z>=0:\n",
        "        print('{:1.2f}{:12.4f}{:12.4f}{:12.4f}{:12.4f}{:12.4f}{:12.4f}'.format(t,vz,vx,x,z,acel1(vx,t),acel2(vz,t)))\n",
        "        z = z + vz*h + 0.5*acel2(vz,t)*h**2   # Verlet\n",
        "        vtemz = vz + h*acel2(vz,t)    # Euler \n",
        "        vz = vz + 0.5*h*(acel2(vz,t)+acel2(vtemz,t))\n",
        "        \n",
        "        x = x + vx*h + 0.5*acel1(vx,t)*h**2   # Verlet\n",
        "        vtemx = vx + h*acel2(vx,t)    # Euler \n",
        "        vx = vx + 0.5*h*(acel1(vx,t)+acel1(vtemx,t))\n",
        "        t = t+h\n",
        "        \n",
        "        vt.append(t)\n",
        "        vvz.append(vz)\n",
        "        vvx.append(vx)\n",
        "        vx.append(x)\n",
        "        vz.append(z)\n",
        "        ax.append(acel1(vx,t))\n",
        "        az.append(acel2(vz,t))        \n",
        "\n",
        "    return (vt,vvz,vvx,vx,vz,ax,az)"
      ],
      "metadata": {
        "id": "wcvU8EXqC1J2"
      },
      "execution_count": 20,
      "outputs": []
    },
    {
      "cell_type": "code",
      "source": [
        "import numpy as np\n",
        "import matplotlib.pyplot as plt\n",
        "# condiciones iniciales\n",
        "t,vx,vz,z,x = 0,6.71,6.71,1.8,0   \n",
        "k = 0.02 \n",
        "m = 0.4\n",
        "h = 0.02\n",
        "g = -9.87\n",
        "\n",
        "# modelo lineal de la dependencia F(v).\n",
        "acel1 = lambda  vx,t : -(k/m)*np.abs(vx)\n",
        "fx = lambda vx,t : vx\n",
        "\n",
        "acel2 = lambda  vz,t : g - (k/m)*vz \n",
        "fz = lambda vz,t : vz"
      ],
      "metadata": {
        "id": "ZiqD2CdrHD3-"
      },
      "execution_count": 21,
      "outputs": []
    }
  ]
}